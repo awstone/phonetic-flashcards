{
 "cells": [
  {
   "cell_type": "code",
   "execution_count": null,
   "metadata": {},
   "outputs": [],
   "source": [
    "import torch\n",
    "from transformers import AutoModelForCausalLM, AutoTokenizer, pipeline\n",
    "\n",
    "tokenizer = AutoTokenizer.from_pretrained(\"stabilityai/FreeWilly2\", use_fast=False)\n",
    "model = AutoModelForCausalLM.from_pretrained(\"stabilityai/FreeWilly2\", torch_dtype=torch.float16, low_cpu_mem_usage=True, device_map=\"auto\")\n",
    "system_prompt = \"### System:\\nYou are Free Willy, an AI that follows instructions extremely well. Help as much as you can. Remember, be safe, and don't do anything illegal.\\n\\n\"\n",
    "\n",
    "message = \"Generate a list of 5 objects that start with the sound /f/\"\n",
    "prompt = f\"{system_prompt}### User: {message}\\n\\n### Assistant:\\n\"\n",
    "inputs = tokenizer(prompt, return_tensors=\"pt\").to(\"cuda\")\n",
    "output = model.generate(**inputs, do_sample=True, top_p=0.95, top_k=0, max_new_tokens=256)\n",
    "\n",
    "print(tokenizer.decode(output[0], skip_special_tokens=True))"
   ]
  }
 ],
 "metadata": {
  "language_info": {
   "name": "python"
  },
  "orig_nbformat": 4
 },
 "nbformat": 4,
 "nbformat_minor": 2
}
